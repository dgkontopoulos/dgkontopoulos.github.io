{
 "cells": [
  {
   "cell_type": "markdown",
   "metadata": {},
   "source": [
    "# Leaflet cluster map of talk locations\n",
    "\n",
    "Run this from the _talks/ directory, which contains .md files of all your talks. This scrapes the location YAML field from each .md file, geolocates it with geopy/Nominatim, and uses the getorg library to output data, HTML, and Javascript for a standalone cluster map."
   ]
  },
  {
   "cell_type": "code",
   "execution_count": 1,
   "metadata": {},
   "outputs": [
    {
     "name": "stdout",
     "output_type": "stream",
     "text": [
      "Defaulting to user installation because normal site-packages is not writeable\n",
      "Requirement already satisfied: getorg in /home/dgkontopoulos/.local/lib/python3.10/site-packages (0.3.1)\n",
      "Requirement already satisfied: retrying in /home/dgkontopoulos/.local/lib/python3.10/site-packages (from getorg) (1.3.4)\n",
      "Requirement already satisfied: pygithub in /home/dgkontopoulos/.local/lib/python3.10/site-packages (from getorg) (1.59.1)\n",
      "Requirement already satisfied: geopy in /home/dgkontopoulos/.local/lib/python3.10/site-packages (from getorg) (2.4.0)\n",
      "Requirement already satisfied: geographiclib<3,>=1.52 in /home/dgkontopoulos/.local/lib/python3.10/site-packages (from geopy->getorg) (2.0)\n",
      "Requirement already satisfied: pyjwt[crypto]>=2.4.0 in /home/dgkontopoulos/.local/lib/python3.10/site-packages (from pygithub->getorg) (2.8.0)\n",
      "Requirement already satisfied: deprecated in /home/dgkontopoulos/.local/lib/python3.10/site-packages (from pygithub->getorg) (1.2.14)\n",
      "Requirement already satisfied: pynacl>=1.4.0 in /usr/lib/python3/dist-packages (from pygithub->getorg) (1.5.0)\n",
      "Requirement already satisfied: requests>=2.14.0 in /usr/lib/python3/dist-packages (from pygithub->getorg) (2.25.1)\n",
      "Requirement already satisfied: six>=1.7.0 in /usr/lib/python3/dist-packages (from retrying->getorg) (1.16.0)\n",
      "Requirement already satisfied: cryptography>=3.4.0 in /usr/lib/python3/dist-packages (from pyjwt[crypto]>=2.4.0->pygithub->getorg) (3.4.8)\n",
      "Requirement already satisfied: cffi>=1.4.1 in /home/dgkontopoulos/.local/lib/python3.10/site-packages (from pynacl>=1.4.0->pygithub->getorg) (1.15.1)\n",
      "Requirement already satisfied: wrapt<2,>=1.10 in /home/dgkontopoulos/.local/lib/python3.10/site-packages (from deprecated->pygithub->getorg) (1.15.0)\n",
      "Requirement already satisfied: pycparser in /home/dgkontopoulos/.local/lib/python3.10/site-packages (from cffi>=1.4.1->pynacl>=1.4.0->pygithub->getorg) (2.21)\n",
      "IPywidgets and ipyleaflet support enabled.\n"
     ]
    }
   ],
   "source": [
    "!pip3 install getorg --upgrade\n",
    "import glob\n",
    "import getorg\n",
    "from geopy import Nominatim"
   ]
  },
  {
   "cell_type": "code",
   "execution_count": 2,
   "metadata": {},
   "outputs": [],
   "source": [
    "g = glob.glob(\"_talks/*.md\")"
   ]
  },
  {
   "cell_type": "code",
   "execution_count": 3,
   "metadata": {},
   "outputs": [
    {
     "name": "stderr",
     "output_type": "stream",
     "text": [
      "/home/dgkontopoulos/.local/lib/python2.7/site-packages/ipykernel_launcher.py:1: DeprecationWarning: Using Nominatim with default or sample `user_agent` \"geopy/1.23.0\" is strongly discouraged, as it violates Nominatim's ToS https://operations.osmfoundation.org/policies/nominatim/ and may possibly cause 403 and 429 HTTP errors. Please specify a custom `user_agent` with `Nominatim(user_agent=\"my-application\")` or by overriding the default `user_agent`: `geopy.geocoders.options.default_user_agent = \"my-application\"`. In geopy 2.0 this will become an exception.\n",
      "  \"\"\"Entry point for launching an IPython kernel.\n"
     ]
    }
   ],
   "source": [
    "geocoder = Nominatim()\n",
    "location_dict = {}\n",
    "location = \"\"\n",
    "permalink = \"\"\n",
    "title = \"\""
   ]
  },
  {
   "cell_type": "code",
   "execution_count": 4,
   "metadata": {},
   "outputs": [
    {
     "name": "stdout",
     "output_type": "stream",
     "text": [
      "('Ascot, United Kingdom', '\\n', Location((51.4101286, -0.6680194, 0.0)))\n",
      "('Liverpool, United Kingdom', '\\n', Location((53.4071991, -2.99168, 0.0)))\n",
      "('Portland, OR, United States of America', '\\n', Location((45.5202471, -122.674194, 0.0)))\n",
      "('Groningen, The Netherlands', '\\n', Location((53.2190652, 6.5680077, 0.0)))\n",
      "('Lamia, Greece', '\\n', Location((38.8993832, 22.433582, 0.0)))\n",
      "('Stanford, CA, United States of America', '\\n', Location((37.4265407, -122.170305455, 0.0)))\n",
      "('Sapporo, Japan', '\\n', Location((43.061936, 141.3542924, 0.0)))\n",
      "('London, United Kingdom', '\\n', Location((51.4893335, -0.144055084528, 0.0)))\n",
      "('Biddeford, ME, United States of America', '\\n', Location((43.4925843, -70.4533844, 0.0)))\n",
      "('Heraklion, Greece', '\\n', Location((35.33908, 25.1332843, 0.0)))\n",
      "('Mytilene, Greece', '\\n', Location((39.1037355, 26.554788, 0.0)))\n",
      "('Taipei, Taiwan', '\\n', Location((25.0375198, 121.5636796, 0.0)))\n",
      "('Biddeford, ME, United States of America', '\\n', Location((43.4925843, -70.4533844, 0.0)))\n",
      "('Biddeford, ME, United States of America', '\\n', Location((43.4925843, -70.4533844, 0.0)))\n",
      "('Clermont-Ferrand, France', '\\n', Location((45.7774551, 3.0819427, 0.0)))\n"
     ]
    }
   ],
   "source": [
    "\n",
    "for file in g:\n",
    "    with open(file, 'r') as f:\n",
    "        lines = f.read()\n",
    "        if lines.find('location: \"') > 1:\n",
    "            loc_start = lines.find('location: \"') + 11\n",
    "            lines_trim = lines[loc_start:]\n",
    "            loc_end = lines_trim.find('\"')\n",
    "            location = lines_trim[:loc_end]\n",
    "            if location == \"Athens, Greece\":\n",
    "                location = \"Αθήνα, Ελλάδα\"\n",
    "                            \n",
    "           \n",
    "        location_dict[location] = geocoder.geocode(location)\n",
    "        print(location, \"\\n\", location_dict[location])\n"
   ]
  },
  {
   "cell_type": "code",
   "execution_count": 5,
   "metadata": {},
   "outputs": [
    {
     "data": {
      "text/plain": [
       "'Written map to talkmap/'"
      ]
     },
     "execution_count": 5,
     "metadata": {},
     "output_type": "execute_result"
    }
   ],
   "source": [
    "m = getorg.orgmap.create_map_obj()\n",
    "getorg.orgmap.output_html_cluster_map(location_dict, folder_name=\"talkmap\", hashed_usernames=False)"
   ]
  },
  {
   "cell_type": "code",
   "execution_count": null,
   "metadata": {},
   "outputs": [],
   "source": [
    "location_dict"
   ]
  }
 ],
 "metadata": {
  "anaconda-cloud": {},
  "kernelspec": {
   "display_name": "Python 2",
   "language": "python",
   "name": "python2"
  },
  "language_info": {
   "codemirror_mode": {
    "name": "ipython",
    "version": 2
   },
   "file_extension": ".py",
   "mimetype": "text/x-python",
   "name": "python",
   "nbconvert_exporter": "python",
   "pygments_lexer": "ipython2",
   "version": "2.7.18"
  }
 },
 "nbformat": 4,
 "nbformat_minor": 1
}
